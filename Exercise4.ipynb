{
 "cells": [
  {
   "cell_type": "code",
   "execution_count": 1,
   "id": "7cfe50e0",
   "metadata": {},
   "outputs": [
    {
     "name": "stdout",
     "output_type": "stream",
     "text": [
      "0    2\n",
      "1    4\n",
      "2    5\n",
      "3    6\n",
      "4    9\n",
      "dtype: int64\n"
     ]
    }
   ],
   "source": [
    "import pandas as pd\n",
    "given_list = [2, 4, 5, 6, 9]\n",
    "series = pd.Series(given_list)\n",
    "print(series)\n"
   ]
  },
  {
   "cell_type": "code",
   "execution_count": 2,
   "id": "fbbc91b2",
   "metadata": {},
   "outputs": [
    {
     "name": "stdout",
     "output_type": "stream",
     "text": [
      "DatetimeIndex(['2021-05-01', '2021-05-02', '2021-05-03', '2021-05-04',\n",
      "               '2021-05-05', '2021-05-06', '2021-05-07', '2021-05-08',\n",
      "               '2021-05-09', '2021-05-10', '2021-05-11', '2021-05-12'],\n",
      "              dtype='datetime64[ns]', freq='D')\n"
     ]
    }
   ],
   "source": [
    "import pandas as pd\n",
    "date_series = pd.date_range(start = '05-01-2021', end = '05-12-2021')\n",
    "print(date_series)"
   ]
  },
  {
   "cell_type": "code",
   "execution_count": 3,
   "id": "c78c5b06",
   "metadata": {},
   "outputs": [
    {
     "name": "stdout",
     "output_type": "stream",
     "text": [
      "   name  age   dept\n",
      "0   sam   22    mca\n",
      "1  sinu   25  mtech\n",
      "2  abhi   24  btech\n"
     ]
    }
   ],
   "source": [
    "import pandas as pd\n",
    "di= {'name': ['sam', 'sinu', 'abhi'],\n",
    "     'age' : [22, 25, 24],\n",
    "     'dept' : ['mca', 'mtech', 'btech']}\n",
    "df = pd.DataFrame(di)\n",
    "print(df)"
   ]
  },
  {
   "cell_type": "code",
   "execution_count": 4,
   "id": "89f0b000",
   "metadata": {},
   "outputs": [
    {
     "name": "stdout",
     "output_type": "stream",
     "text": [
      "   id    name  age\n",
      "0   2    Vimi   22\n",
      "1   3  Khushi   25\n",
      "2   1    Anas   24\n"
     ]
    }
   ],
   "source": [
    "import pandas as pd\n",
    "lists=[[2, 'Vimi', 22],\n",
    "       [3, 'Khushi', 25],\n",
    "       [1, 'Anas', 24]]\n",
    "df= pd.DataFrame(lists,columns = ['id', 'name', 'age'])\n",
    "print(df)"
   ]
  },
  {
   "cell_type": "code",
   "execution_count": 6,
   "id": "34522841",
   "metadata": {},
   "outputs": [
    {
     "name": "stdout",
     "output_type": "stream",
     "text": [
      "    name age place\n",
      "0  priyu 22 kannur\n",
      "1    samith 23 tvm\n",
      "2     asmi 24 kzkd\n",
      "3     manu 23 ksgd\n"
     ]
    }
   ],
   "source": [
    "import pandas as pd\n",
    "df=pd.read_csv('prg5.csv')\n",
    "print(df)"
   ]
  },
  {
   "cell_type": "code",
   "execution_count": 7,
   "id": "ed0b4c79",
   "metadata": {},
   "outputs": [
    {
     "name": "stdout",
     "output_type": "stream",
     "text": [
      "   name  age  id\n",
      "0   sam   22   6\n",
      "1  sinu   25   8\n",
      "2  abhi   24   7\n",
      "\n",
      "   name  age  id\n",
      "0   sam   22   6\n",
      "2  abhi   24   7\n",
      "1  sinu   25   8\n"
     ]
    }
   ],
   "source": [
    "import pandas as pd\n",
    "di= {'name': ['sam', 'sinu', 'abhi'],\n",
    "     'age' : [22, 25, 24],\n",
    "      'id' : [6,8,7]}\n",
    "df = pd.DataFrame(di)\n",
    "print(df)\n",
    "print()\n",
    "dfs= df.sort_values(by = ['id','age'])\n",
    "print(dfs)"
   ]
  },
  {
   "cell_type": "code",
   "execution_count": 8,
   "id": "8476bd93",
   "metadata": {},
   "outputs": [
    {
     "name": "stdout",
     "output_type": "stream",
     "text": [
      "    name  age\n",
      "id           \n",
      "6    sam   22\n",
      "8   sinu   25\n",
      "7   abhi   24\n",
      "\n",
      "   id  name  age\n",
      "0   6   sam   22\n",
      "1   8  sinu   25\n",
      "2   7  abhi   24\n"
     ]
    }
   ],
   "source": [
    "import pandas as pd\n",
    "di= {'name': ['sam', 'sinu', 'abhi'],\n",
    "     'age' : [22, 25, 24],\n",
    "      'id' : [6,8,7]}\n",
    "df = pd.DataFrame(di)\n",
    "df_ci=df.set_index('id')\n",
    "print(df_ci)\n",
    "print()\n",
    "df=df_ci.reset_index()\n",
    "print(df)"
   ]
  },
  {
   "cell_type": "code",
   "execution_count": 9,
   "id": "d650c500",
   "metadata": {},
   "outputs": [
    {
     "name": "stdout",
     "output_type": "stream",
     "text": [
      "   name  age  id\n",
      "0   sam   22   6\n",
      "1  sinu   25   8\n"
     ]
    }
   ],
   "source": [
    "import pandas as pd\n",
    "di= {'name': ['sam', 'sinu', 'abhi'],\n",
    "     'age' : [22, 25, 24],\n",
    "      'id' : [6,8,7]}\n",
    "df = pd.DataFrame(di)\n",
    "op= df.loc[[0,1], :]\n",
    "print(op)"
   ]
  },
  {
   "cell_type": "code",
   "execution_count": 10,
   "id": "857cd168",
   "metadata": {},
   "outputs": [
    {
     "name": "stdout",
     "output_type": "stream",
     "text": [
      "    name      occu   sala\n",
      "0    sam    doctor  22000\n",
      "1   sinu  engineer  25500\n",
      "2   abhi    driver  17000\n",
      "3   hema    doctor  23400\n",
      "4  malik    driver  14000\n",
      "\n",
      "occu\n",
      "doctor      22700.0\n",
      "driver      15500.0\n",
      "engineer    25500.0\n",
      "Name: sala, dtype: float64\n"
     ]
    }
   ],
   "source": [
    "import pandas as pd\n",
    "di= {'name': ['sam', 'sinu', 'abhi','hema','malik'],\n",
    "     'occu' : ['doctor','engineer','driver','doctor','driver'],\n",
    "     'sala' : [22000, 25500, 17000,23400,14000]}\n",
    "df = pd.DataFrame(di)\n",
    "print(df)\n",
    "print()\n",
    "avg_sal=df.groupby('occu')['sala'].mean()\n",
    "print(avg_sal)"
   ]
  },
  {
   "cell_type": "code",
   "execution_count": 11,
   "id": "2a9dd99e",
   "metadata": {},
   "outputs": [
    {
     "name": "stdout",
     "output_type": "stream",
     "text": [
      "    name      occu     sala\n",
      "0    sam    doctor      NaN\n",
      "1   sinu  engineer  25500.0\n",
      "2   abhi    driver      NaN\n",
      "3   hema    doctor  35500.0\n",
      "4  malik    driver  34500.0\n",
      "5  deepa  engineer      NaN\n",
      "\n",
      "    name      occu     sala\n",
      "0    sam    doctor      0.0\n",
      "1   sinu  engineer  25500.0\n",
      "2   abhi    driver      0.0\n",
      "3   hema    doctor  35500.0\n",
      "4  malik    driver  34500.0\n",
      "5  deepa  engineer      0.0\n"
     ]
    }
   ],
   "source": [
    "import pandas as pd\n",
    "import numpy as np\n",
    "di= {'name': ['sam', 'sinu', 'abhi','hema','malik','deepa'],\n",
    "     'occu' : ['doctor','engineer','driver','doctor','driver','engineer'],\n",
    "     'sala' : [np.nan,25500,np.nan,35500,34500,np.nan]}\n",
    "df = pd.DataFrame(di)\n",
    "print(df)\n",
    "print()\n",
    "dfn= df.fillna(0)\n",
    "print(dfn)"
   ]
  },
  {
   "cell_type": "code",
   "execution_count": 12,
   "id": "04572a12",
   "metadata": {},
   "outputs": [
    {
     "name": "stdout",
     "output_type": "stream",
     "text": [
      "             cname  profit\n",
      "0    ramlal stores   50000\n",
      "1   Khushi enterpr  -25000\n",
      "2  brothers furnit   24500\n",
      "3     seetha store   -1000\n",
      "4   plavila furnit   33000\n",
      "\n",
      "             cname  profit\n",
      "0    ramlal stores    True\n",
      "1   Khushi enterpr   False\n",
      "2  brothers furnit    True\n",
      "3     seetha store   False\n",
      "4   plavila furnit    True\n"
     ]
    }
   ],
   "source": [
    "import pandas as pd\n",
    "lists=[['ramlal stores',50000],\n",
    "       ['Khushi enterpr',-25000],\n",
    "       ['brothers furnit',24500],\n",
    "       ['seetha store',-1000],\n",
    "       ['plavila furnit',33000]]\n",
    "df= pd.DataFrame(lists,columns = ['cname','profit'])\n",
    "print(df)\n",
    "print()\n",
    "df['profit']=df['profit'].apply(lambda x:x>0)\n",
    "print(df)"
   ]
  },
  {
   "cell_type": "code",
   "execution_count": 13,
   "id": "4fd4926c",
   "metadata": {},
   "outputs": [
    {
     "name": "stdout",
     "output_type": "stream",
     "text": [
      "   eid   ename  stipend\n",
      "0    5  ramlal     3000\n",
      "1    8  Khushi     1000\n",
      "2    3    binu      500\n",
      "3    1  seetha     5000\n",
      "4    9   priya     3200\n",
      "\n",
      "   eid    position\n",
      "0    8    employee\n",
      "1    1  senior_emp\n",
      "2    3      intern\n",
      "3    9    employee\n",
      "4    5    employee\n",
      "\n",
      "   eid   ename  stipend    position\n",
      "0    5  ramlal     3000    employee\n",
      "1    8  Khushi     1000    employee\n",
      "2    3    binu      500      intern\n",
      "3    1  seetha     5000  senior_emp\n",
      "4    9   priya     3200    employee\n"
     ]
    }
   ],
   "source": [
    "import pandas as pd\n",
    "lists1=[[5,'ramlal',3000],\n",
    "       [8,'Khushi',1000],\n",
    "       [3,'binu',500],\n",
    "       [1,'seetha',5000],\n",
    "       [9,'priya',3200]]\n",
    "df1= pd.DataFrame(lists1,columns = ['eid','ename','stipend'])\n",
    "print(df1)\n",
    "print()\n",
    "\n",
    "lists2=[[8,'employee'],\n",
    "       [1,'senior_emp'],\n",
    "       [3,'intern'],\n",
    "       [9,'employee'],\n",
    "       [5,'employee']]\n",
    "df2= pd.DataFrame(lists2,columns = ['eid','position'])\n",
    "print(df2)\n",
    "print()\n",
    "\n",
    "df= pd.merge(df1,df2,how='inner',on='eid')\n",
    "print(df)\n",
    "\n"
   ]
  },
  {
   "cell_type": "code",
   "execution_count": null,
   "id": "6da07d4c",
   "metadata": {},
   "outputs": [],
   "source": []
  }
 ],
 "metadata": {
  "kernelspec": {
   "display_name": "Python 3 (ipykernel)",
   "language": "python",
   "name": "python3"
  },
  "language_info": {
   "codemirror_mode": {
    "name": "ipython",
    "version": 3
   },
   "file_extension": ".py",
   "mimetype": "text/x-python",
   "name": "python",
   "nbconvert_exporter": "python",
   "pygments_lexer": "ipython3",
   "version": "3.9.7"
  }
 },
 "nbformat": 4,
 "nbformat_minor": 5
}
