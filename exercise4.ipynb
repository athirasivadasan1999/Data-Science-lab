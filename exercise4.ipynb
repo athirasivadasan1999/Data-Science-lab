{
 "cells": [
  {
   "cell_type": "code",
   "execution_count": 1,
   "id": "c913700a",
   "metadata": {},
   "outputs": [
    {
     "name": "stdout",
     "output_type": "stream",
     "text": [
      "0    10\n",
      "1    20\n",
      "2    30\n",
      "3    40\n",
      "4    50\n",
      "dtype: int64\n"
     ]
    }
   ],
   "source": [
    "import pandas as pd\n",
    "list = [10,20,30,40,50]\n",
    "print(pd.Series(list))"
   ]
  },
  {
   "cell_type": "code",
   "execution_count": 2,
   "id": "c2c351f0",
   "metadata": {},
   "outputs": [
    {
     "name": "stdout",
     "output_type": "stream",
     "text": [
      "DatetimeIndex(['2021-05-01', '2021-05-02', '2021-05-03', '2021-05-04',\n",
      "               '2021-05-05', '2021-05-06', '2021-05-07', '2021-05-08',\n",
      "               '2021-05-09', '2021-05-10', '2021-05-11', '2021-05-12'],\n",
      "              dtype='datetime64[ns]', freq='D')\n"
     ]
    }
   ],
   "source": [
    "import pandas as pd\n",
    "date = pd.date_range('05-01-2021','05-12-2021')\n",
    "print(date)"
   ]
  },
  {
   "cell_type": "code",
   "execution_count": 4,
   "id": "6e7aaa43",
   "metadata": {},
   "outputs": [
    {
     "name": "stdout",
     "output_type": "stream",
     "text": [
      "    name  marks\n",
      "0  kichu     90\n",
      "1  richu     95\n",
      "2  vichu    100\n"
     ]
    }
   ],
   "source": [
    "import pandas as pd\n",
    "dict = {\n",
    "    'name':[\"kichu\",\"richu\",\"vichu\"],\n",
    "    'marks':[90,95,100]\n",
    "}\n",
    "print(pd.DataFrame(dict))"
   ]
  },
  {
   "cell_type": "code",
   "execution_count": 5,
   "id": "1a95be67",
   "metadata": {},
   "outputs": [
    {
     "name": "stdout",
     "output_type": "stream",
     "text": [
      "   id   name  marks\n",
      "0   1   appu     45\n",
      "1   2   ammu     50\n",
      "2   3  kukku     50\n"
     ]
    }
   ],
   "source": [
    "import pandas as pd\n",
    "frame = [[1,\"appu\",45],\n",
    "         [2,\"ammu\",50],\n",
    "        [3,\"kukku\",50]]\n",
    "print(pd.DataFrame(frame,columns=[\"id\",\"name\",\"marks\"]))"
   ]
  },
  {
   "cell_type": "code",
   "execution_count": 10,
   "id": "d1b06069",
   "metadata": {},
   "outputs": [
    {
     "name": "stdout",
     "output_type": "stream",
     "text": [
      "   name mark\n",
      "0  athira 50\n",
      "1   ammu 100\n",
      "2    appu 10\n"
     ]
    }
   ],
   "source": [
    "import pandas as pd\n",
    "r = pd.read_csv('test.csv')\n",
    "print(r)"
   ]
  },
  {
   "cell_type": "code",
   "execution_count": 22,
   "id": "2ae20162",
   "metadata": {},
   "outputs": [
    {
     "name": "stdout",
     "output_type": "stream",
     "text": [
      "     name  marks\n",
      "10   Appu     90\n",
      "20  vichu     95\n",
      "30  kichu     10\n",
      "Data Frame with default indexing\n",
      "    name  marks\n",
      "0   Appu     90\n",
      "1  vichu     95\n",
      "2  kichu     10\n"
     ]
    }
   ],
   "source": [
    "import pandas as pd\n",
    "dict = {\n",
    "    'name':[\"Appu\",\"vichu\",\"kichu\"],\n",
    "    'marks':[90,95,10]\n",
    "}\n",
    "index={10,20,30}\n",
    "c=pd.DataFrame(dict, index)\n",
    "print(c)\n",
    "print(\"Data Frame with default indexing\")\n",
    "c.reset_index(inplace=True,drop=True)\n",
    "print(c)"
   ]
  },
  {
   "cell_type": "code",
   "execution_count": 24,
   "id": "8fb5684a",
   "metadata": {},
   "outputs": [
    {
     "name": "stdout",
     "output_type": "stream",
     "text": [
      "    name  marks\n",
      "0   arun     90\n",
      "1  varun     95\n"
     ]
    }
   ],
   "source": [
    "import pandas as pd\n",
    "dict = {\n",
    "    'name':[\"arun\",\"varun\",\"tharun\"],\n",
    "    'marks':[90,95,100]\n",
    "}\n",
    "c=pd.DataFrame(dict)\n",
    "print(c.iloc[0:2])"
   ]
  },
  {
   "cell_type": "code",
   "execution_count": 25,
   "id": "da828347",
   "metadata": {},
   "outputs": [
    {
     "data": {
      "text/plain": [
       "occupation\n",
       "Doctor     50000.0\n",
       "Manager    50000.0\n",
       "Teacher    45000.0\n",
       "Name: salary, dtype: float64"
      ]
     },
     "execution_count": 25,
     "metadata": {},
     "output_type": "execute_result"
    }
   ],
   "source": [
    "import pandas as pd\n",
    "frame = [[\"Nitya\",\"Doctor\",50000],\n",
    "         [\"Sara\",\"Manager\",50000],\n",
    "        [\"Eldho\",\"Teacher\",50000],\n",
    "        [\"neha\",\"Teacher\",40000]]\n",
    "v=pd.DataFrame(frame,columns=[\"name\",\"occupation\",\"salary\"])\n",
    "v.groupby(\"occupation\")['salary'].mean()\n"
   ]
  },
  {
   "cell_type": "code",
   "execution_count": 26,
   "id": "491a9962",
   "metadata": {},
   "outputs": [
    {
     "name": "stdout",
     "output_type": "stream",
     "text": [
      "  name  marks\n",
      "0    a    2.0\n",
      "1    b    3.0\n",
      "2    c    0.0\n"
     ]
    }
   ],
   "source": [
    "import pandas as pd\n",
    "import numpy as np\n",
    "nums = {'name':[\"a\",\"b\",\"c\"],\n",
    "    'marks': [2, 3, np.nan]}\n",
    "df = pd.DataFrame(nums, columns =['name','marks'])\n",
    "df['marks'] = df['marks'].fillna(0)\n",
    "print(df)\n"
   ]
  },
  {
   "cell_type": "code",
   "execution_count": null,
   "id": "3e439470",
   "metadata": {},
   "outputs": [],
   "source": []
  }
 ],
 "metadata": {
  "kernelspec": {
   "display_name": "Python 3 (ipykernel)",
   "language": "python",
   "name": "python3"
  },
  "language_info": {
   "codemirror_mode": {
    "name": "ipython",
    "version": 3
   },
   "file_extension": ".py",
   "mimetype": "text/x-python",
   "name": "python",
   "nbconvert_exporter": "python",
   "pygments_lexer": "ipython3",
   "version": "3.9.7"
  }
 },
 "nbformat": 4,
 "nbformat_minor": 5
}
